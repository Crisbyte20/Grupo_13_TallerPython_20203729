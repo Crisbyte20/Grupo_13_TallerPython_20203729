{
  "nbformat": 4,
  "nbformat_minor": 0,
  "metadata": {
    "colab": {
      "provenance": []
    },
    "kernelspec": {
      "name": "python3",
      "display_name": "Python 3"
    },
    "language_info": {
      "name": "python"
    }
  },
  "cells": [
    {
      "cell_type": "markdown",
      "source": [
        "Ejercicio I:\n"
      ],
      "metadata": {
        "id": "OIBfmImqXS3H"
      }
    },
    {
      "cell_type": "code",
      "source": [
        "x = 6\n",
        "if x%2 == 0 and x%3 == 0:\n",
        "  print(\" Es múltiplo de 2 y 3\")\n",
        "elif x % 3 == 0:\n",
        "  print(\" Es múltiplo de 3\")\n",
        "elif x % 2 == 0:\n",
        "  print(\" Es múltiplo de 2\")\n",
        "else:\n",
        "  print(\"otro caso\")"
      ],
      "metadata": {
        "colab": {
          "base_uri": "https://localhost:8080/"
        },
        "id": "26mcA-PoDQ9u",
        "outputId": "d399a25d-1062-4917-d093-8906ba811e13"
      },
      "execution_count": null,
      "outputs": [
        {
          "output_type": "stream",
          "name": "stdout",
          "text": [
            " Es múltiplo de 2 y 3\n"
          ]
        }
      ]
    },
    {
      "cell_type": "markdown",
      "source": [
        "Ejercicio 2"
      ],
      "metadata": {
        "id": "ETpAB2tVdVDN"
      }
    },
    {
      "cell_type": "code",
      "source": [
        "for x in range(1,101):\n",
        "  if x%3 == 0 and x%5 == 0:\n",
        "    print(\"fizzbuzz\")\n",
        "  elif x%5 == 0:\n",
        "    print(\"Buzz\")\n",
        "  elif x%3 == 0:\n",
        "    print(\"fizz\")\n",
        "  else: print(x)"
      ],
      "metadata": {
        "colab": {
          "base_uri": "https://localhost:8080/"
        },
        "id": "Y0vrwJ6MGpwG",
        "outputId": "a93a94fb-df55-4a83-f061-6e431d259a3c"
      },
      "execution_count": null,
      "outputs": [
        {
          "output_type": "stream",
          "name": "stdout",
          "text": [
            "1\n",
            "2\n",
            "fizz\n",
            "4\n",
            "Buzz\n",
            "fizz\n",
            "7\n",
            "8\n",
            "fizz\n",
            "Buzz\n",
            "11\n",
            "fizz\n",
            "13\n",
            "14\n",
            "fizzbuzz\n",
            "16\n",
            "17\n",
            "fizz\n",
            "19\n",
            "Buzz\n",
            "fizz\n",
            "22\n",
            "23\n",
            "fizz\n",
            "Buzz\n",
            "26\n",
            "fizz\n",
            "28\n",
            "29\n",
            "fizzbuzz\n",
            "31\n",
            "32\n",
            "fizz\n",
            "34\n",
            "Buzz\n",
            "fizz\n",
            "37\n",
            "38\n",
            "fizz\n",
            "Buzz\n",
            "41\n",
            "fizz\n",
            "43\n",
            "44\n",
            "fizzbuzz\n",
            "46\n",
            "47\n",
            "fizz\n",
            "49\n",
            "Buzz\n",
            "fizz\n",
            "52\n",
            "53\n",
            "fizz\n",
            "Buzz\n",
            "56\n",
            "fizz\n",
            "58\n",
            "59\n",
            "fizzbuzz\n",
            "61\n",
            "62\n",
            "fizz\n",
            "64\n",
            "Buzz\n",
            "fizz\n",
            "67\n",
            "68\n",
            "fizz\n",
            "Buzz\n",
            "71\n",
            "fizz\n",
            "73\n",
            "74\n",
            "fizzbuzz\n",
            "76\n",
            "77\n",
            "fizz\n",
            "79\n",
            "Buzz\n",
            "fizz\n",
            "82\n",
            "83\n",
            "fizz\n",
            "Buzz\n",
            "86\n",
            "fizz\n",
            "88\n",
            "89\n",
            "fizzbuzz\n",
            "91\n",
            "92\n",
            "fizz\n",
            "94\n",
            "Buzz\n",
            "fizz\n",
            "97\n",
            "98\n",
            "fizz\n",
            "Buzz\n"
          ]
        }
      ]
    },
    {
      "cell_type": "code",
      "execution_count": null,
      "metadata": {
        "id": "EzrUPgj27vbg"
      },
      "outputs": [],
      "source": [
        "# Ejercicio III:\n",
        "def calcular_descuento (total):\n",
        "  if total >= 1000:\n",
        "    print(total-total*0.2)\n",
        "  elif total>=500:\n",
        "    print(total-total*0.1)\n",
        "  else:\n",
        "    print(total)\n",
        "\n"
      ]
    },
    {
      "cell_type": "code",
      "source": [
        "calcular_descuento(1200)\n"
      ],
      "metadata": {
        "colab": {
          "base_uri": "https://localhost:8080/"
        },
        "id": "NLpIdKtsB0dZ",
        "outputId": "029f8290-d7a5-4fc2-b96c-2849e6dcd425"
      },
      "execution_count": null,
      "outputs": [
        {
          "output_type": "stream",
          "name": "stdout",
          "text": [
            "960.0\n"
          ]
        }
      ]
    },
    {
      "cell_type": "code",
      "source": [
        "calcular_descuento(750)"
      ],
      "metadata": {
        "colab": {
          "base_uri": "https://localhost:8080/"
        },
        "id": "0NLRrZaQCo3H",
        "outputId": "b52a79bc-fe58-448c-8734-e6f1e4b2a3ca"
      },
      "execution_count": null,
      "outputs": [
        {
          "output_type": "stream",
          "name": "stdout",
          "text": [
            "675.0\n"
          ]
        }
      ]
    },
    {
      "cell_type": "code",
      "source": [
        "calcular_descuento(300)"
      ],
      "metadata": {
        "colab": {
          "base_uri": "https://localhost:8080/"
        },
        "id": "NZy5uP1wCw3F",
        "outputId": "d24e77b4-ac71-46eb-8a8a-7ed17d0c51e7"
      },
      "execution_count": null,
      "outputs": [
        {
          "output_type": "stream",
          "name": "stdout",
          "text": [
            "300\n"
          ]
        }
      ]
    },
    {
      "cell_type": "markdown",
      "source": [
        "IV.Crea una función llamada clasificar_edad() que reciba como parámetro la edad de una\n",
        "persona. La función debe clasificar a la persona en una de las siguientes categorías:\n",
        "\"Niño\" si la edad es menor de 12 años.\n",
        "\"Adolescente\" si la edad está entre 12 y 17 años.\n",
        "“Joven” si la edad está entre 18 y 24 años.\n",
        "\"Adulto\" si la edad está entre 25 y 64 años.\n",
        "\"Adulto Mayor\" si la edad es mayor o igual a 65 años.\n",
        "La función debe devolver la categoría correspondiente. Prueba la función con las edades de\n",
        "10, 19, 25 y 70."
      ],
      "metadata": {
        "id": "9RjH072uaqE8"
      }
    },
    {
      "cell_type": "code",
      "source": [
        "#EJERCICIO IV\n",
        "def clasificar_edad(edad):\n",
        "  edad = int(input(\"Escribe edad: \"))\n",
        "  if edad < 12: return print(\"Niño\")\n",
        "  if 12<=edad<=17:return print(\"Adolescente\")\n",
        "  if 18<=edad<=24: return print(\"Joven\")\n",
        "  if 25<=edad<=64: return print(\"Adulto\")\n",
        "  if edad>=65: return print(\"Adulto Mayor\")\n"
      ],
      "metadata": {
        "id": "Wuww1vnNaf4J"
      },
      "execution_count": null,
      "outputs": []
    },
    {
      "cell_type": "code",
      "source": [
        "clasificar_edad(21)"
      ],
      "metadata": {
        "id": "f8NmPedDfzpV"
      },
      "execution_count": null,
      "outputs": []
    },
    {
      "cell_type": "markdown",
      "source": [
        "**ejercicio** V"
      ],
      "metadata": {
        "id": "IaMk52K3H3O5"
      }
    },
    {
      "cell_type": "markdown",
      "source": [
        "Crea una función 𝒄𝒂𝒍𝒄𝒖𝒍𝒂𝒓_𝒄𝒓𝒂𝒆𝒔𝒕(𝒎𝒆𝒅𝒊𝒂_𝒑𝒆𝒓𝒔𝒐𝒏𝒂𝒍,𝒎𝒆𝒅𝒊𝒂_𝒄𝒖𝒓𝒔𝒐,𝒅𝒆𝒔𝒗𝒊𝒂𝒄𝒊𝒐𝒏_𝒄𝒖𝒓𝒔𝒐) que\n",
        "reciba como tres únicos inputs tu media, la media del curso y la desviación estándar del curso\n",
        "y te devuelva tu craest calculado. No te olvides documentar la función usando triple comillas\n",
        "“””.\n"
      ],
      "metadata": {
        "id": "qGhY4eoSjY3h"
      }
    },
    {
      "cell_type": "code",
      "source": [
        "def calcular_craest( media_personal, media_curso, desviacion_curso):\n",
        "  '''\n",
        "  Calcular el CRAEST de una persona dado su media personal, media del curso y la desviacion del curso\n",
        "\n",
        "  Parametros:\n",
        "  media_personal (float): La media personal de la persona.\n",
        "  media_curso (float): La media del curso.\n",
        "  desviacion_curso (float): La desviacion del curso.\n",
        "\n",
        "  Devuelve:\n",
        "  craest (float): el CRAEST de la persona.\n",
        "  return craest\n",
        "  '''\n",
        "  craest = (media_personal-media_curso)*10/desviacion_curso+50\n",
        "  return craest\n"
      ],
      "metadata": {
        "id": "h4ynzFNJH5Bu"
      },
      "execution_count": null,
      "outputs": []
    },
    {
      "cell_type": "code",
      "source": [
        "media_personal: 16\n",
        "media_curso: 15\n",
        "desviacion_curso: 3\n",
        "calcular_craest( media_personal=16, media_curso=15, desviacion_curso=3)"
      ],
      "metadata": {
        "colab": {
          "base_uri": "https://localhost:8080/"
        },
        "id": "Qqn2vIl7zsc7",
        "outputId": "3f75009f-2832-474d-9530-603803dbebe9"
      },
      "execution_count": null,
      "outputs": [
        {
          "output_type": "execute_result",
          "data": {
            "text/plain": [
              "53.333333333333336"
            ]
          },
          "metadata": {},
          "execution_count": 17
        }
      ]
    }
  ]
}