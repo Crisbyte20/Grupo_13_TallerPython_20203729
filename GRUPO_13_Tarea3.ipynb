{
  "nbformat": 4,
  "nbformat_minor": 0,
  "metadata": {
    "colab": {
      "provenance": []
    },
    "kernelspec": {
      "name": "python3",
      "display_name": "Python 3"
    },
    "language_info": {
      "name": "python"
    }
  },
  "cells": [
    {
      "cell_type": "markdown",
      "source": [
        "\n",
        "Ejercicio 1"
      ],
      "metadata": {
        "id": "4HKaIlfsK3X7"
      }
    },
    {
      "cell_type": "code",
      "source": [
        "from scipy import stats\n",
        "\n",
        "\n",
        "num_lanzamientos = 10\n",
        "p_exito = 0.5\n",
        "k = 7\n",
        "\n",
        "prob_exacta = stats.binom.pmf(k, num_lanzamientos, p_exito)\n",
        "print(f'Probabilidad de obtener exactamente {k} caras en {num_lanzamientos} lanzamientos con p={p_exito}: {prob_exacta:.4f}')"
      ],
      "metadata": {
        "colab": {
          "base_uri": "https://localhost:8080/"
        },
        "id": "gNomdg9pK5wt",
        "outputId": "bdadf854-2edf-4c97-8741-bb51857b3bb7"
      },
      "execution_count": null,
      "outputs": [
        {
          "output_type": "stream",
          "name": "stdout",
          "text": [
            "Probabilidad de obtener exactamente 7 caras en 10 lanzamientos con p=0.5: 0.1172\n"
          ]
        }
      ]
    },
    {
      "cell_type": "markdown",
      "source": [
        "ejercicio 2"
      ],
      "metadata": {
        "id": "zBI-QEAlrvy3"
      }
    },
    {
      "cell_type": "code",
      "source": [
        "import scipy.stats as stats\n",
        "\n",
        "num_lanzamientos = 10\n",
        "p_exito = 0.5\n",
        "k = 7\n",
        "\n",
        "prob_acumulada = stats.binom.cdf(k, num_lanzamientos, p_exito)\n",
        "print(f'Probabilidad acumulada de obtener 7 o menos caras en {num_lanzamientos} lanzamientos es: {prob_acumulada:.5f}')"
      ],
      "metadata": {
        "id": "b4gUQ27Dry5_",
        "colab": {
          "base_uri": "https://localhost:8080/"
        },
        "outputId": "12f2d994-7162-41aa-b8d3-f185500ec122"
      },
      "execution_count": null,
      "outputs": [
        {
          "output_type": "stream",
          "name": "stdout",
          "text": [
            "Probabilidad acumulada de obtener 7 o menos caras en 10 lanzamientos es: 0.94531\n"
          ]
        }
      ]
    },
    {
      "cell_type": "markdown",
      "source": [
        "ejercicio 3"
      ],
      "metadata": {
        "id": "eFzxS75urxeE"
      }
    },
    {
      "cell_type": "code",
      "source": [
        "import matplotlib.pyplot as plt\n",
        "x= range(11)\n",
        "probabilidad = stats.binom.pmf(x,n_lanzamientos,p_exito)\n",
        "plt.bar(x,probabilidad, color='blue')\n",
        "plt.xlabel('número de caras')\n",
        "plt.ylabel('probabilidad')\n",
        "plt.title('Distribución binomial: 10 lanzamientos de una moneda sin trucos')\n",
        "plt.show()"
      ],
      "metadata": {
        "colab": {
          "base_uri": "https://localhost:8080/",
          "height": 472
        },
        "id": "0kJNEE9y3685",
        "outputId": "74dc5138-981e-44dc-8af9-50bc6fc8b2e6"
      },
      "execution_count": null,
      "outputs": [
        {
          "output_type": "display_data",
          "data": {
            "text/plain": [
              "<Figure size 640x480 with 1 Axes>"
            ],
            "image/png": "[encoded data removed]"
          },
          "metadata": {}
        }
      ]
    },
    {
      "cell_type": "markdown",
      "source": [
        "ejercicio 4"
      ],
      "metadata": {
        "id": "sRGV3gUraypS"
      }
    },
    {
      "cell_type": "code",
      "source": [
        "p_exito=0.8\n",
        "n_lanzamientos=10\n",
        "k=7\n",
        "prob_exacta = stats.binom.pmf(k, n_lanzamientos, p_exito)\n",
        "\n",
        "print(f'Probabilidad de obtener exactamente {k} caras en {n_lanzamientos} lanzamientos con p={p_exito}: {prob_exacta:.4f}')"
      ],
      "metadata": {
        "id": "BOCq75Nm0nEk",
        "colab": {
          "base_uri": "https://localhost:8080/"
        },
        "outputId": "900fe5fb-40c8-4c02-9e49-7912ae6910af"
      },
      "execution_count": null,
      "outputs": [
        {
          "output_type": "stream",
          "name": "stdout",
          "text": [
            "Probabilidad de obtener exactamente 7 caras en 10 lanzamientos con p=0.8: 0.2013\n"
          ]
        }
      ]
    },
    {
      "cell_type": "code",
      "source": [
        "n_lanzamientos = 10\n",
        "p_exito = 0.8\n",
        "k = 7\n",
        "\n",
        "# Calcular la probabilidad acumulada de obtener 7 o menos éxitos\n",
        "prob_acumulada = stats.binom.cdf(k, n_lanzamientos, p_exito)\n",
        "\n",
        "print(f'Probabilidad acumulada de obtener {k} o menos caras en {n_lanzamientos} lanzamientos con p={p_exito}: {prob_acumulada:.4f}')"
      ],
      "metadata": {
        "colab": {
          "base_uri": "https://localhost:8080/"
        },
        "id": "kaW-8fIS5KPx",
        "outputId": "d59efd6f-e431-430d-bd92-39793fc986bd"
      },
      "execution_count": null,
      "outputs": [
        {
          "output_type": "stream",
          "name": "stdout",
          "text": [
            "Probabilidad acumulada de obtener 7 o menos caras en 10 lanzamientos con p=0.8: 0.3222\n"
          ]
        }
      ]
    },
    {
      "cell_type": "code",
      "source": [
        "import matplotlib.pyplot as plt\n",
        "from scipy import stats\n",
        "\n",
        "n_lanzamientos = 10\n",
        "p_exito = 0.8\n",
        "k_values = range(0, 11)\n",
        "\n",
        "\n",
        "probabilidades = [stats.binom.pmf(k, n_lanzamientos, p_exito) for k in k_values]\n",
        "\n",
        "\n",
        "plt.figure(figsize=(10, 6))\n",
        "plt.bar(k_values, probabilidades, color='skyblue')\n",
        "plt.xlabel('Número de Caras (k)')\n",
        "plt.ylabel('Probabilidad')\n",
        "plt.title('Distribución Binomial: Probabilidad de obtener desde 0 hasta 10 caras\\n en 10 lanzamientos con p=0.8')\n",
        "plt.xticks(k_values)\n",
        "plt.grid(True)\n",
        "plt.show()"
      ],
      "metadata": {
        "colab": {
          "base_uri": "https://localhost:8080/",
          "height": 585
        },
        "id": "dP8DyCKc5eNM",
        "outputId": "6d720ba8-3f35-4594-8592-bb70522da78f"
      },
      "execution_count": null,
      "outputs": [
        {
          "output_type": "display_data",
          "data": {
            "text/plain": [
              "<Figure size 1000x600 with 1 Axes>"
            ],
            "image/png": "[encoded data removed]"
          },
          "metadata": {}
        }
      ]
    },
    {
      "cell_type": "markdown",
      "source": [],
      "metadata": {
        "id": "k8GaWp_L0jvA"
      }
    },
    {
      "cell_type": "markdown",
      "source": [
        "ejercicio 5"
      ],
      "metadata": {
        "id": "I0tpI_GDe72T"
      }
    },
    {
      "cell_type": "code",
      "source": [
        "\n",
        "from scipy.stats import norm\n",
        "datos=norm.rvs(0,1,1000)\n",
        "print(datos)\n",
        "\n"
      ],
      "metadata": {
        "colab": {
          "base_uri": "https://localhost:8080/"
        },
        "id": "oVjY76D0e--4",
        "outputId": "1cb6a6eb-18fd-42de-fa93-16f926853b14"
      },
      "execution_count": null,
      "outputs": [
        {
          "output_type": "stream",
          "name": "stdout",
          "text": [
            "[-3.97924153e-02 -1.78144855e-01  1.52831477e+00 -6.48138305e-01\n",
            " -1.36518544e+00  2.53579605e-01  1.43099941e+00 -7.08212360e-01\n",
            "  1.03357180e-01  3.83751930e-01 -4.02014616e-01 -8.63252270e-01\n",
            " -7.75495154e-01 -7.29198387e-01  1.38396807e+00 -6.47388582e-01\n",
            "  4.84571591e-01  1.47392190e-01  7.99755178e-02 -6.15484895e-01\n",
            "  1.32166418e+00 -8.11300279e-02 -9.62581588e-01 -1.06395173e-01\n",
            "  7.23632662e-01 -7.57551075e-01  6.78023827e-01 -2.27231032e-01\n",
            "  1.43057223e-01  8.08343200e-01 -2.33284458e-01 -8.44124902e-01\n",
            " -4.50762239e-01 -7.11006067e-01  1.50603497e+00  6.61441473e-01\n",
            " -1.22461014e+00  2.99560016e-01  2.25675009e+00  4.31060517e-01\n",
            " -8.88075066e-02  1.51211938e+00 -1.76210230e+00  8.89599265e-01\n",
            " -1.95185095e+00 -5.42915530e-01 -7.63642752e-01 -1.38746774e+00\n",
            "  8.64552016e-02  3.29628124e-01 -3.43575734e-01 -1.16103154e+00\n",
            "  5.57270666e-01 -1.48262772e+00  1.72745841e+00  1.92466025e+00\n",
            "  3.61303654e-01  4.32107220e-01 -5.89233347e-01 -2.43317346e-01\n",
            " -1.45397949e+00  1.00008543e+00 -1.00637208e+00 -9.25484602e-01\n",
            " -3.49043777e-02 -1.09419459e+00 -1.76896889e+00  1.47449605e+00\n",
            "  1.40889743e+00  2.13089707e-01  1.99561143e+00 -7.99717429e-01\n",
            " -8.86306604e-02 -3.17868487e-01  7.83477783e-01 -2.10922711e-01\n",
            "  7.98615145e-01  6.63485812e-01  1.28708135e+00 -6.80515110e-01\n",
            "  3.95490906e-03 -7.24730004e-01 -1.72636336e+00 -2.14410580e+00\n",
            "  8.40089679e-01  1.85158112e+00 -2.13306060e+00  4.00120700e-01\n",
            " -5.46400986e-01 -6.41004087e-01 -5.71111992e-01  6.57935426e-01\n",
            " -4.16088792e-01 -1.24592954e-01  2.17520152e+00  6.24270105e-02\n",
            " -9.25944613e-02  2.55286599e-01  1.53160470e+00  9.61815539e-01\n",
            "  4.78249804e-01 -3.72721782e-01 -2.70144550e-01  1.19576994e+00\n",
            " -2.05876370e+00  1.19110667e+00 -1.38690855e+00 -1.43045919e+00\n",
            " -1.25962926e+00  2.63195347e+00  9.54370812e-01 -2.69186152e-01\n",
            "  7.82064013e-01 -1.98415550e-01 -4.64915031e-01  6.08773723e-02\n",
            " -2.95449420e-01 -6.02969911e-01 -8.76948151e-01 -7.23892603e-01\n",
            " -1.03909844e+00  4.01371544e-01 -1.79093095e+00  1.41378885e-01\n",
            " -8.55802726e-01 -7.62738760e-01 -8.80010303e-01  1.80498671e-01\n",
            "  8.19399250e-01 -4.20494068e-01 -2.01260415e+00 -7.95218306e-01\n",
            " -5.27984091e-01 -1.28666720e-01  6.58871211e-01 -1.03215417e+00\n",
            "  3.50056076e-02  2.21450308e-01  1.16071204e+00 -4.92643615e-01\n",
            "  2.96310530e-02  7.42244752e-01  2.59479777e+00 -5.88822426e-01\n",
            "  7.06446576e-01  1.54645533e-03 -6.03667028e-01  7.41677395e-01\n",
            "  8.97471611e-01  1.98003581e+00  9.58183156e-01 -7.12292832e-01\n",
            " -1.52913225e-01 -7.62228930e-01  4.06279285e-01  5.17882968e-01\n",
            " -1.72071212e+00 -1.05917942e+00  1.08589436e+00  8.23039903e-03\n",
            "  2.96316327e+00 -2.04338853e+00  1.52163554e+00 -3.33803857e-01\n",
            " -1.83191847e+00 -2.12718092e-01 -1.16294878e+00  2.16422619e-01\n",
            "  7.38217012e-01  2.48084118e-01  8.97848855e-01 -1.92208867e+00\n",
            " -3.32387287e-01 -2.56935637e-02  3.24249704e+00 -5.95741672e-01\n",
            "  1.11138456e+00 -2.31763600e+00  1.41665941e+00  1.61818860e+00\n",
            "  4.42755913e-01 -3.42102989e-01  1.74151258e+00  1.09841211e+00\n",
            "  2.02338111e-01  2.61927862e+00  6.92575008e-01  1.00769463e+00\n",
            "  4.91603853e-01  4.91851121e-01  8.56037277e-01 -1.17878741e+00\n",
            "  1.03388402e+00 -6.19398705e-01  9.10466065e-01 -1.86055133e-01\n",
            " -9.62905184e-01  4.71485071e-01  1.25970325e+00  2.50414687e-02\n",
            " -1.10678806e+00  1.29485038e+00 -2.25980139e+00 -7.73129455e-01\n",
            "  9.07986903e-02  6.95659587e-01 -3.38473453e-01 -4.21998610e-01\n",
            " -5.51465681e-01  1.74664387e+00 -4.11816658e-01  6.82704716e-01\n",
            " -7.41908671e-01 -5.19018360e-01 -7.88115971e-01  5.84450828e-01\n",
            "  2.45703315e+00 -1.88761884e+00 -8.33656001e-01  6.35038014e-01\n",
            "  6.53686095e-02  3.12741725e-01  9.67298530e-02 -4.87227406e-01\n",
            "  8.59935732e-02  8.24628368e-01  6.22337473e-01 -2.02989406e+00\n",
            "  9.34424720e-01  2.80508215e+00 -1.56129823e+00  2.13755092e+00\n",
            "  1.48179742e+00 -8.52145398e-01 -7.88138082e-01 -4.22502626e-01\n",
            " -1.12765969e+00 -4.30959820e-01 -1.77822685e+00  1.09335262e+00\n",
            " -4.76233294e-01  1.33367920e+00 -1.07106743e+00  1.00054439e-01\n",
            " -2.28142590e-01 -6.57777088e-01  4.14113286e-01  1.52118158e+00\n",
            "  7.81141045e-02  5.37901811e-01  8.50975478e-01  3.00828481e-01\n",
            "  6.25490086e-01 -1.61168068e-01 -6.62850374e-01  1.14663435e+00\n",
            "  1.07664923e-01 -5.35982610e-01 -1.24547717e+00 -6.95357864e-01\n",
            "  1.43334432e+00 -9.64690387e-01 -1.94723275e-01  4.88573467e-01\n",
            "  3.60205852e-01  1.19481268e+00 -3.34616210e-01 -7.97926546e-01\n",
            "  4.50915899e-01  2.16005127e-01 -1.35856033e+00  1.58931790e+00\n",
            "  4.18371743e-01  9.82973926e-01  3.47216634e-01  4.89000851e-01\n",
            " -5.56792069e-02  3.03236270e-01  4.71876114e-01 -8.86694879e-01\n",
            " -5.91728412e-02 -7.79158453e-01  1.72725908e+00  1.07631884e+00\n",
            "  1.05510728e-01  1.92655544e+00  5.37962464e-01  8.85946960e-01\n",
            " -4.38544136e-01 -7.64866207e-01  1.47992610e+00 -1.21562034e+00\n",
            " -1.10822318e+00  7.23484089e-01 -1.11161638e+00  3.82579136e-01\n",
            " -3.47393447e+00  1.06402060e+00  1.61698999e-01  1.81973758e+00\n",
            " -7.49590108e-02 -8.73060960e-01 -3.15853576e-01  9.55701055e-01\n",
            "  5.59117931e-01 -1.00169400e+00 -1.04980023e+00  7.02643431e-01\n",
            " -1.47628003e+00 -9.92942199e-01 -2.00718322e+00  1.82353956e-01\n",
            " -8.51094938e-01 -1.14258377e+00  1.03479012e+00 -4.48711029e-01\n",
            " -1.49949384e+00  1.09237210e+00 -9.96115602e-02  1.30223709e+00\n",
            "  4.87172161e-02  1.63052850e+00 -2.58088245e-01 -1.81850871e+00\n",
            " -8.21208133e-01 -2.01039644e+00  1.43997255e+00  7.42206365e-01\n",
            " -2.07096974e+00  2.69652363e-01 -7.53234762e-01 -4.09082077e-01\n",
            " -1.71971038e+00 -8.12981905e-01  1.88453338e-01  1.43805815e-03\n",
            "  3.17299651e-02  3.12770916e-01  1.07692072e+00 -1.19145378e+00\n",
            "  5.16705940e-01 -6.72226339e-01  2.66494756e-01  6.15545404e-01\n",
            "  2.63146347e-01 -7.08334082e-01  3.37647532e-03 -3.99532843e-01\n",
            "  1.49000141e+00 -6.28756956e-01 -7.00012301e-01  5.27999342e-01\n",
            "  1.49263794e-01  6.94561307e-01  2.17321033e-01  8.06933965e-01\n",
            " -3.80714361e-01  1.16362591e+00 -7.83276155e-01  9.29079272e-01\n",
            " -9.07660608e-01 -1.88752847e+00  5.08935450e-01  8.75364874e-01\n",
            " -7.38127491e-01  4.86232103e-01 -8.69889898e-01  6.80345503e-02\n",
            " -3.26309138e-01  5.62710945e-01 -1.15080663e-01 -1.59691811e+00\n",
            " -8.01037008e-01  1.24086699e+00  3.21966867e-01  1.64293992e+00\n",
            "  3.34213999e-01 -2.08149718e-01  2.29206453e-01  1.25219989e+00\n",
            " -6.21935605e-01  2.50340873e-01 -1.24167131e+00  1.00521278e+00\n",
            " -1.44668992e+00  5.51603799e-01  6.39643056e-01 -6.27778148e-01\n",
            " -5.70067174e-02  1.64545687e+00 -2.01404543e-01  5.77896658e-01\n",
            "  1.09393409e+00  4.72754230e-01 -3.87526416e-01 -8.45055691e-01\n",
            " -6.27574302e-01 -1.63066337e+00 -2.12367994e+00 -3.06636143e-01\n",
            " -1.06342616e+00 -1.30820792e+00  6.94150560e-01 -1.04866400e+00\n",
            "  5.94582431e-01  2.32507739e-01 -3.97000156e-01 -1.48017262e-01\n",
            " -1.20881599e+00  1.47869707e+00  4.24783025e-02 -4.58277497e-01\n",
            "  1.12250679e+00  8.20700183e-01 -2.15568525e+00 -2.02502463e-01\n",
            "  6.54640549e-01 -8.01111912e-01  8.28833749e-01  6.93273081e-01\n",
            "  9.62697571e-01 -9.81943205e-01  9.42179084e-01  1.41051926e-01\n",
            "  9.96242909e-01  2.72707742e-02 -2.56236589e+00 -2.83333890e-01\n",
            "  9.27272552e-01  1.21719240e+00 -9.96291041e-02  6.62008229e-01\n",
            " -2.55856522e+00  5.19028036e-01 -2.71182674e-01 -1.02418234e+00\n",
            "  1.18780021e-01 -1.55102833e+00  5.17288548e-01  1.58943313e+00\n",
            "  1.03467739e+00 -5.22271721e-01  5.14490073e-01  5.49568543e-01\n",
            "  1.33964092e+00  9.83748935e-01 -6.05037101e-01  2.18905777e+00\n",
            "  1.01245942e+00 -5.01456201e-01  7.86047461e-01  1.06708119e+00\n",
            " -4.86049539e-01 -4.34630642e-01 -6.45037378e-01 -1.36837333e+00\n",
            "  2.20408453e-01 -9.06085153e-01 -1.72650276e+00 -2.64457407e+00\n",
            " -1.65311013e-01  1.12344879e+00  4.33750788e-01 -4.00421636e-01\n",
            "  3.40190292e-01 -2.14978299e-01 -6.22672107e-01  9.30338215e-01\n",
            " -6.36398462e-01 -1.15907401e+00  1.23172886e+00  7.30859206e-01\n",
            " -3.27931310e-01  7.62781764e-01  1.71554521e+00 -6.13343092e-01\n",
            " -2.40581387e-01  1.59284191e+00 -1.95934726e-02  1.18006620e+00\n",
            " -2.45664263e-01 -1.47112153e+00  3.57558369e-01 -7.05644993e-01\n",
            "  4.26157685e-01  1.53918257e+00  5.62488283e-01 -8.12382285e-01\n",
            " -2.61529996e-01  9.75044962e-01 -4.51169530e-01 -5.43197846e-01\n",
            "  1.67721093e-01 -2.38451457e-02 -1.50153941e+00 -1.10419978e+00\n",
            " -5.46167095e-01  2.45499111e-01 -1.29270980e+00  1.01469386e+00\n",
            "  2.41354169e+00 -1.19881763e+00 -8.76536472e-01  5.43858846e-01\n",
            " -3.58158623e-01  5.83788437e-01  1.11023426e+00 -2.85736937e-02\n",
            " -1.06173178e+00  5.14098558e-01 -1.06169340e+00 -6.67688269e-01\n",
            "  9.77511622e-01 -1.25673375e-01  3.24973088e-01  2.25421514e-01\n",
            " -3.49312342e-01  1.59161786e+00  1.50192625e+00  4.51161405e-01\n",
            " -2.83447153e-02  2.11744553e-01 -8.18050585e-01  6.20827053e-01\n",
            "  5.43946850e-01 -9.91896899e-01  7.82552600e-01 -1.36887391e-01\n",
            " -5.05368822e-01 -2.73575284e-02  6.83837900e-01  4.15425961e-01\n",
            "  1.02750649e+00 -2.98099629e-01 -1.55159092e+00  9.94677463e-02\n",
            " -3.27238493e-01  5.79041584e-01 -6.94236416e-01 -4.21287120e-01\n",
            "  6.56236165e-01  1.13530797e+00 -6.85479414e-01 -1.96974256e+00\n",
            " -9.75816600e-01 -1.49048794e+00 -1.92511436e-01  6.87950204e-03\n",
            " -1.07884363e-01 -5.32056468e-01  7.99407125e-01 -1.41552189e+00\n",
            " -1.33246387e+00  5.86771356e-01 -4.07344240e-02 -1.12630201e+00\n",
            " -6.31695908e-01 -1.36473095e+00 -9.21132733e-01  1.05893941e+00\n",
            " -9.65395415e-01 -3.14040931e-01  3.14821135e-03  5.45894345e-02\n",
            "  1.55842687e+00  8.02451569e-01  5.65325147e-01  3.72495183e-01\n",
            "  7.88960522e-01  3.00529141e-02 -1.13542406e+00 -5.81326270e-01\n",
            "  9.55576409e-01  1.86883273e+00  7.76382832e-01  4.37227509e-01\n",
            "  6.30837000e-02 -5.75632139e-01 -4.64715854e-01 -4.61839197e-01\n",
            " -2.54953412e-01  7.70191444e-01  5.20333539e-01 -1.45681371e+00\n",
            " -1.40778209e+00  1.26680002e+00 -2.14426501e+00  1.63845022e+00\n",
            " -9.24613949e-01 -3.25986632e-02 -1.04549672e+00 -2.30350776e-01\n",
            "  1.78333790e-01  3.10767549e-01  1.17207389e+00 -2.31066722e-01\n",
            "  1.93433371e+00  1.42592154e+00  1.18155313e+00  1.76539365e+00\n",
            " -3.00996103e-01 -4.39295695e-01 -1.00808034e+00  1.41395281e+00\n",
            "  7.45973599e-01 -9.85281412e-01  3.76248858e-01  1.30496142e+00\n",
            " -1.43327812e-01  1.13507208e+00 -1.20606816e+00  2.05128964e-01\n",
            " -9.76309256e-01 -1.10973489e-01  1.41459837e-01  1.35272434e+00\n",
            "  8.99506417e-01 -1.03381711e+00 -1.22952836e-01  2.25818160e+00\n",
            "  2.07400522e+00  7.62123352e-01 -8.90346628e-02 -3.05361749e-01\n",
            "  5.80459541e-01 -1.59435753e+00  1.44236976e+00 -1.12598268e+00\n",
            " -2.52658411e+00  6.21022426e-01  3.01956901e-01 -3.74246213e-01\n",
            "  7.19202975e-01 -1.42477266e+00 -4.32397301e-01 -1.18605506e-01\n",
            " -5.39995434e-01  9.87593907e-01  8.48746412e-02  5.46794445e-01\n",
            "  7.24110465e-02 -9.87084547e-01  2.51169668e-01  4.84901460e-01\n",
            " -1.52111222e+00  3.59677899e-01 -1.99592581e-01  4.23329793e-01\n",
            "  1.86501335e+00 -1.17383378e+00 -2.75440660e-01  1.52122647e+00\n",
            " -9.62050146e-01 -9.54725430e-02  1.00417847e+00  1.93879702e-01\n",
            " -4.88775293e-01  1.38425149e+00  2.33159006e-01 -1.05449355e+00\n",
            " -7.58180164e-01  6.86293707e-01 -8.17500710e-01 -6.85642212e-01\n",
            " -3.52933480e-01  1.49497367e-02  5.94114987e-01  5.04334770e-01\n",
            " -5.68317967e-01  2.22423875e-01 -2.55041355e-01 -8.59363704e-01\n",
            " -1.00383332e+00  1.46136727e+00  1.19305318e+00 -1.67135484e+00\n",
            "  4.77359182e-01  1.69137221e-02 -3.25992333e-01 -8.47196194e-01\n",
            " -2.05511205e+00 -9.76310605e-02 -5.40986596e-01  1.75008298e-02\n",
            "  5.13749609e-01 -3.12563619e-01  5.09431213e-01  7.75538199e-02\n",
            " -2.32513638e-01 -6.27800114e-01  1.46652663e+00 -1.06467030e+00\n",
            "  1.33831228e+00 -4.85730580e-01 -2.62015335e-01 -4.37972013e-01\n",
            "  6.85104247e-01 -1.92282598e+00 -5.70937463e-01  4.31673232e-01\n",
            "  8.94885068e-01  1.11776033e+00  1.92520233e+00  1.26621089e+00\n",
            "  6.16980751e-01  2.21516662e+00 -1.02969718e-01  1.70609403e-01\n",
            "  7.92502663e-02  7.03153280e-01  6.88048168e-01 -8.83537512e-01\n",
            " -2.24715217e-01 -1.57647068e+00 -1.15696208e-02  1.28877297e-03\n",
            "  5.22098969e-01 -2.52493988e-02 -8.42925034e-01 -2.67538514e+00\n",
            " -8.17496589e-01 -1.98499566e+00 -1.06665636e+00 -6.31205787e-02\n",
            "  1.00208060e+00 -4.12290971e-01 -1.26971030e+00 -9.95517151e-01\n",
            "  2.06284772e-01 -7.80982080e-01 -8.97253520e-01  3.75640081e-01\n",
            " -5.12253335e-02  1.29191056e+00  8.75280407e-01 -8.35961592e-01\n",
            " -9.16461501e-01  9.54733742e-01  2.49629040e-01 -5.34420995e-01\n",
            "  1.14477542e+00  3.43388481e-01 -6.18869957e-02  8.92957115e-01\n",
            " -7.54937262e-01  1.95001500e+00  5.78288664e-01 -6.55493810e-01\n",
            " -3.30938386e-01  2.05889607e-01  6.63781236e-01 -1.29749246e+00\n",
            " -9.39750784e-01  1.65137498e+00 -9.61076524e-01  9.15677605e-01\n",
            " -7.11771345e-01  1.25403638e-01  1.19550722e+00  3.13259963e-01\n",
            "  3.80617790e-01  6.45381654e-01  1.83241193e-01  6.86528783e-01\n",
            " -2.35556609e-01 -1.69902816e+00 -7.85835684e-01 -3.37401238e-01\n",
            " -1.80236006e+00  3.77998509e-01 -1.47436344e+00 -4.06263330e-01\n",
            " -6.14364558e-01 -1.51534522e+00 -6.82691732e-01 -6.09886637e-02\n",
            " -2.21366590e-03 -2.24916724e-01  1.22921181e+00  3.34275744e+00\n",
            "  9.57379366e-01 -1.58931373e+00 -1.10477403e+00  2.97500105e-01\n",
            " -2.00883295e+00 -1.32217936e+00 -3.37083325e-01 -1.34356394e+00\n",
            "  1.53913679e+00 -4.51297779e-01  4.79401411e-01  7.66927989e-01\n",
            " -1.42959008e-01  1.74028909e+00  1.53030208e+00  1.84132316e+00\n",
            "  4.52205980e-01 -3.61293936e-01  7.42487100e-01  9.83742155e-02\n",
            "  1.18925181e-01  8.44057802e-02 -1.40344155e+00  4.06880794e-01\n",
            "  2.52984126e+00 -1.27874177e+00  4.95762187e-01 -1.63469558e-01\n",
            " -3.74572537e-01 -3.61718096e-01  9.30710565e-01 -1.12486859e+00\n",
            "  2.73361851e-01 -2.27834196e+00  5.65021084e-01  5.73603551e-01\n",
            " -8.11112260e-01 -8.67984495e-02  1.39106124e+00 -1.28654771e-01\n",
            " -1.32784257e+00 -6.78664461e-01 -6.60497113e-01 -1.80966165e-01\n",
            " -4.84335432e-02 -4.09869891e-01  1.99205015e-01  1.04774126e+00\n",
            "  6.97966847e-01  8.14021793e-01  5.63446518e-01  1.03488711e+00\n",
            "  8.13641148e-01  1.02544214e+00 -7.55530346e-01  2.05696492e-01\n",
            "  2.76191997e-01 -1.24177039e+00 -7.98730599e-01  1.43211376e-01\n",
            "  6.53362485e-01  1.82281701e+00  2.55281927e+00  2.57534536e-01\n",
            "  9.53984560e-01  5.62412301e-01  1.63947933e+00  1.75657010e+00\n",
            " -4.76469739e-01 -9.63881085e-01 -1.12038177e+00 -2.16604491e+00\n",
            " -2.09364992e-01  6.20165447e-01 -2.60307839e+00 -1.72357059e+00\n",
            " -1.75567591e-01 -1.41502542e+00 -2.94997537e+00 -1.67111502e+00\n",
            "  2.57548952e-01 -3.49591518e-01 -4.66135374e-01  1.36018466e+00\n",
            "  5.50108635e-01 -3.12110813e-01  1.53532080e+00  9.76451229e-01\n",
            "  1.25264541e+00 -3.59332206e-01  3.56992511e-01  3.56743205e-01\n",
            " -1.90890600e+00  7.54499512e-01  8.70150262e-01 -6.48792664e-01\n",
            "  7.50080856e-01  1.64962664e-03  4.68322137e-01  2.40513662e-02\n",
            "  5.30233787e-01 -1.86207567e+00 -5.70355966e-01 -8.23845953e-01\n",
            "  8.30490873e-01  7.25029384e-01  8.63714690e-01  2.32089755e-01\n",
            " -1.84228572e+00  1.62707482e+00  2.30125461e-01 -1.36055959e-01\n",
            " -2.97733345e-02  6.55330371e-01 -2.61859395e-01 -9.84365351e-02\n",
            " -2.97487880e-01 -8.04220994e-01  3.04340641e-02  1.40315895e+00\n",
            " -1.09146865e+00 -1.03293294e+00  9.79563167e-01  9.76003490e-01\n",
            "  1.22658354e+00 -1.33592474e+00  1.20192511e+00  2.20592010e-01\n",
            "  4.76237847e-01  1.34388508e+00 -9.77883367e-01 -1.82934739e+00\n",
            " -2.08464502e-01 -2.38559692e-02  1.20981117e+00 -6.70484820e-02\n",
            "  7.11795042e-02 -6.22683165e-01 -1.59178804e+00 -1.54207995e+00\n",
            " -2.99088687e-01  1.67606803e+00 -1.63681876e+00 -3.19351928e-02\n",
            " -2.44774014e-01  3.89990818e-01 -1.84585932e+00 -3.29145956e-02\n",
            "  2.08928393e+00 -5.24797788e-01 -7.64201818e-01  1.85354418e+00\n",
            " -1.39697082e-01 -5.82934660e-01  1.31458338e+00 -8.66022820e-02\n",
            " -5.04759286e-01 -4.85180185e-01  5.11651112e-01  5.75840545e-01\n",
            " -3.91239167e-01  2.56931376e+00  1.72846169e-01  3.99568358e-01\n",
            "  5.00222464e-01  1.25505215e+00  7.96168315e-01  2.32966921e-01\n",
            "  4.64150179e-01  8.22307637e-01  2.06443771e-01  3.81625383e-02\n",
            "  1.16786087e-02  4.64468163e-01 -2.16157051e-02 -8.28243008e-01\n",
            " -5.48282794e-01 -2.49271192e-01 -3.34938240e-01  4.86796123e-02\n",
            "  7.46636199e-01 -1.10517699e-01  2.51750818e-02 -2.35365596e-01\n",
            " -1.02227530e+00  1.65291697e+00 -8.34463991e-01 -6.89301793e-01\n",
            "  1.59228775e+00 -4.33578085e-01  1.03030492e+00  4.93970145e-02\n",
            " -1.59496740e+00 -1.48922549e+00 -3.83550022e-01  1.69828808e+00\n",
            " -5.25210122e-01 -6.96387420e-01 -6.13275210e-01  8.79167814e-01\n",
            " -7.43427011e-01  2.41217423e-01  2.29405186e+00  6.34479651e-01\n",
            "  5.91588970e-01 -6.85024637e-01  2.06007068e+00 -1.07655514e+00\n",
            " -5.22209919e-02  1.71368954e+00  1.63927717e+00 -6.85751360e-01\n",
            "  4.54909795e-01  1.09886090e+00  1.24147557e+00  1.47705393e-01\n",
            "  1.85316469e+00  1.02185323e+00 -1.67258559e+00 -1.58872247e+00]\n"
          ]
        }
      ]
    },
    {
      "cell_type": "markdown",
      "source": [
        "ejercicio 6"
      ],
      "metadata": {
        "id": "yWmn0m2Emn3p"
      }
    },
    {
      "cell_type": "code",
      "source": [
        "import numpy as np\n",
        "media=np.mean(datos)\n",
        "print(media)\n",
        "desviacion_estandar = np.std(datos)\n",
        "print(desviacion_estandar)#:000000000000000000000000000000\n",
        "mediana = np.median(datos)\n",
        "print(mediana)"
      ],
      "metadata": {
        "colab": {
          "base_uri": "https://localhost:8080/"
        },
        "id": "WggTV5DomqMf",
        "outputId": "fe1892a3-9bb6-4ddd-854a-5d2bfc0e9918"
      },
      "execution_count": null,
      "outputs": [
        {
          "output_type": "stream",
          "name": "stdout",
          "text": [
            "0.01776224783714751\n",
            "1.018235727812708\n",
            "0.0036656921913735137\n"
          ]
        }
      ]
    },
    {
      "cell_type": "markdown",
      "source": [
        "ejercicio 7"
      ],
      "metadata": {
        "id": "X3KGYAS8qxIE"
      }
    },
    {
      "cell_type": "code",
      "source": [
        "import matplotlib.pyplot as plt\n",
        "plt.hist(datos,bins=30,density=True)\n",
        "xmin,xmax=plt.xlim()\n",
        "\n",
        "x=np.linspace(xmin,xmax,100)\n",
        "p=stats.norm.pdf(x,0,1)\n",
        "plt.plot(x,p,'k',linewidth=2)\n",
        "plt.show()"
      ],
      "metadata": {
        "id": "MdTBNtlmq0SN",
        "colab": {
          "base_uri": "https://localhost:8080/",
          "height": 430
        },
        "outputId": "1caa516d-9531-419d-96ce-e4144102b30f"
      },
      "execution_count": null,
      "outputs": [
        {
          "output_type": "display_data",
          "data": {
            "text/plain": [
              "<Figure size 640x480 with 1 Axes>"
            ],
            "image/png": "[encoded data removed]"
          },
          "metadata": {}
        }
      ]
    },
    {
      "cell_type": "markdown",
      "source": [
        "ejercicio 8"
      ],
      "metadata": {
        "id": "kuGD-7aT23_O"
      }
    },
    {
      "cell_type": "code",
      "source": [
        "from scipy.stats import stats\n",
        "\n",
        "media=0\n",
        "desviacion_estandar=1\n",
        "\n",
        "prob_rango = stats.norm.cdf(1, media, desviacion_estandar) - stats.norm.cdf(-1, media, desviacion_estandar)\n",
        "print(f'probabilidad de que un valor caiga dentro del rango de una desviacion estandar de la media: {prob_rango:.4f}')"
      ],
      "metadata": {
        "id": "6TUPLAeG26zT",
        "colab": {
          "base_uri": "https://localhost:8080/"
        },
        "outputId": "adad1af9-ef32-4661-83fc-f91623149905"
      },
      "execution_count": null,
      "outputs": [
        {
          "output_type": "stream",
          "name": "stdout",
          "text": [
            "probabilidad de que un valor caiga dentro del rango de una desviacion estandar de la media: 0.6827\n"
          ]
        }
      ]
    }
  ]
}